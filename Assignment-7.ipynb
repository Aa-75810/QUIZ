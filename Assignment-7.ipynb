{
 "cells": [
  {
   "cell_type": "markdown",
   "id": "f9ee3731",
   "metadata": {},
   "source": [
    "Make an application which takes various questions from a file, picked randomly, and puts together a quiz for students. Each quiz can be different and then reads a key to grade the quizzes."
   ]
  },
  {
   "cell_type": "code",
   "execution_count": 1,
   "id": "f27be28c",
   "metadata": {},
   "outputs": [
    {
     "name": "stdout",
     "output_type": "stream",
     "text": [
      "WHATS YOUR NAME? \n",
      "WELCOME aditya\n",
      "WANT TO PLAY A QUIZ? \n",
      "Y/NY\n",
      "\n",
      "LETS START THE QUIZ\n",
      "\n",
      "1.  WHAT IS THE CAPITAL OF INDIA? \n",
      "A. BEJING \n",
      "B. NEW DELHI \n",
      "C. LONDON \n",
      "D. OTTAWA\n",
      "ENTER YOUR ANSWER(A/B/C/D): D\n",
      "YOU ANSWERED INCORRECTLY.\n",
      "YOU LOST!.\n",
      "BETTER LUCK NEXT TIME.\n"
     ]
    }
   ],
   "source": [
    "a = input('WHATS YOUR NAME? \\nWELCOME ')\n",
    "b= input('WANT TO PLAY A QUIZ? \\nY/N')\n",
    "\n",
    "\n",
    "if (b == 'Y'):\n",
    "    print('\\nLETS START THE QUIZ\\n')\n",
    "    b = '1.  WHAT IS THE CAPITAL OF INDIA? \\nA. BEJING \\nB. NEW DELHI \\nC. LONDON \\nD. OTTAWA'\n",
    "    print(b)\n",
    "    c = input(\"ENTER YOUR ANSWER(A/B/C/D): \")\n",
    "\n",
    "    if(c == 'B'):\n",
    "        print('\\n CORRECT ANSWER\\n')\n",
    "        print('2.  WHAT IS THE HIGHEST STATUE/BUILDING IN THE WORLD? \\nA. STATUE OF LIBERTY \\nB. STATUE OF UNITY \\nC. EFFIEL TOWER \\nD. GREAT WALL OF CHINA')\n",
    "        c = input(\"ENTER YOUR ANSWER(A/B/C/D): \")\n",
    "    \n",
    "        if(c == 'B'):\n",
    "            print('\\n CORRECT ANSWER\\n')\n",
    "            print('3.  WHO IS FOUNDER OF MICROSOFT COMPANY? \\nA. MARK ZUCKERBERG \\nB. STEVE JOBS \\nC. BILL GATES \\nD. ZACK MA')\n",
    "            c = input(\"ENTER YOUR ANSWER(A/B/C/D): \")\n",
    "    \n",
    "            if(c == 'C'):\n",
    "                print('\\n CORRECT ANSWER\\n')\n",
    "                print('4.  WHO IS THE FIRST CRICEKTER TO HIT 100 CENTUARIES IN INTERNATIONAL CRICKET? \\nA. DON BRADMAN \\nB. SACHIN TENDULKAR \\nC. BRIAN LARA \\nD. NONE OF THE ABOVE')\n",
    "                c = input(\"ENTER YOUR ANSWER(A/B/C/D): \")\n",
    "            \n",
    "                if(c == 'B'):\n",
    "                    print('\\n CORRECT ANSWER\\n')\n",
    "                    print('5.  WHO BECAME THE PRIME MINISTER OF BRITAIN AFTER LIZ TRUSS? \\nA. SCOTT JOHNSON \\nB. NARENDRA MODI \\nC. BORIS JOHNSON \\nD. RISHI SUNAK')\n",
    "                    c = input(\"ENTER YOUR ANSWER(A/B/C/D): \")\n",
    "            \n",
    "                    if(c == 'D'):\n",
    "                        print('\\n CORRECT ANSWER\\n')\n",
    "                        print('6.  WHAT IS THE NAME OF LARGEST FRESH WATER LAKE IN THE WORLD? \\nA. LAKE BAIKAL \\nB. LAKE SUPERIOR \\nC. CASPIAN SEA \\nD. DEAD SEA')\n",
    "                        c = input(\"ENTER YOUR ANSWER(A/B/C/D): \")\n",
    "            \n",
    "                        if(c == 'A'):\n",
    "                            print('\\n CORRECT ANSWER\\n')\n",
    "                            print('7.  WHEN DID THE FIRST COMPUTER LANGUAGE WAS DEVELOPED? \\nA. 1959 \\nB. 1990 \\nC. 1887 \\nD. 1883')\n",
    "                            c = input(\"ENTER YOUR ANSWER(A/B/C/D): \")\n",
    "            \n",
    "                            if(c == 'D'):\n",
    "                                print('\\n CORRECT ANSWER\\n')\n",
    "                                print('8.  WHO IS FOUNDER OF C-LANGUAGE ? \\nA. CHARLES BABBAGE \\nB. DENNIS RITCHIE \\nC. JORDAN WALKE \\nD. GUIDO VON ROSSUM')\n",
    "                                c = input(\"ENTER YOUR ANSWER(A/B/C/D): \")\n",
    "            \n",
    "                                if(c == 'B'):\n",
    "                                    print('\\n CORRECT ANSWER\\n')\n",
    "                                    print('9.  WHAT IS THE NAME OF BIGGEST FLOWER IN THE WORLD? \\nA. RAFFLESIA ARNOLDIA \\nB. WOLFFIA AUSTRALIANA \\nC. RAFFLESIA KERRI \\nD. ROSA RUBIGINOSA')\n",
    "                                    c = input(\"ENTER YOUR ANSWER(A/B/C/D): \")\n",
    "                                \n",
    "                                    if(c == 'A'):\n",
    "                                        print('\\n CORRECT ANSWER\\n')\n",
    "                                        print('10.  WHAT IS THE NAME OF PARLIAMENT OF ISRAEL? \\nA. KNESSET \\nB. PALACE OF WESTMINISTER \\nC. MAJILIS AL SHURA \\nD. DIET')\n",
    "                                        c = input(\"ENTER YOUR ANSWER(A/B/C/D): \")\n",
    "                                        \n",
    "                                        if(c == 'A'):\n",
    "                                            print('\\n CORRECT ANSWER\\n')\n",
    "                                            print('YOU ANSWERED ALL THE QUESTIONS CORRECTLY.\\nYOU WON THE PRIZE.\\nHURRAY!')            \n",
    "\n",
    "    else:\n",
    "        print('YOU ANSWERED INCORRECTLY.\\nYOU LOST!.\\nBETTER LUCK NEXT TIME.')"
   ]
  }
 ],
 "metadata": {
  "kernelspec": {
   "display_name": "Python 3 (ipykernel)",
   "language": "python",
   "name": "python3"
  },
  "language_info": {
   "codemirror_mode": {
    "name": "ipython",
    "version": 3
   },
   "file_extension": ".py",
   "mimetype": "text/x-python",
   "name": "python",
   "nbconvert_exporter": "python",
   "pygments_lexer": "ipython3",
   "version": "3.9.12"
  }
 },
 "nbformat": 4,
 "nbformat_minor": 5
}
